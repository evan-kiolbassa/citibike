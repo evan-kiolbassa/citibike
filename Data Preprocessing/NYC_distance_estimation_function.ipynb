{
 "cells": [
  {
   "cell_type": "code",
   "execution_count": null,
   "metadata": {},
   "outputs": [],
   "source": [
    "import math \n",
    "def stn_distance_est(origin_lat, origin_lon, dest_lat, dest_lon):\n",
    "    '''\n",
    "    1 degree latitude is approximately 69 miles apart\n",
    "    1 degree of Longitude = cosine (latitude in decimal degrees) * length of degree (miles) at equator\n",
    "    A degree of longitude is widest at the equator at 69.172 miles\n",
    "    https://gis.stackexchange.com/questions/142326/calculating-longitude-length-in-miles\n",
    "    '''\n",
    "    lat_miles = abs(dest_lat - origin_lat) * 69\n",
    "    lon_miles =  abs(dest_lat - origin_lat) * math.cos(math.radians(origin_lat)) * 69.172\n",
    "    dist = lat_miles + lon_miles\n",
    "    return dist"
   ]
  }
 ],
 "metadata": {
  "kernelspec": {
   "display_name": "Python 3",
   "language": "python",
   "name": "python3"
  },
  "language_info": {
   "codemirror_mode": {
    "name": "ipython",
    "version": 3
   },
   "file_extension": ".py",
   "mimetype": "text/x-python",
   "name": "python",
   "nbconvert_exporter": "python",
   "pygments_lexer": "ipython3",
   "version": "3.6.8"
  }
 },
 "nbformat": 4,
 "nbformat_minor": 4
}
