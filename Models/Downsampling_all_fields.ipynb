{
 "cells": [
  {
   "cell_type": "code",
   "execution_count": 1,
   "metadata": {},
   "outputs": [],
   "source": [
    "import pandas as pd\n",
    "import plotly.express as px\n",
    "import random\n",
    "import seaborn as sns"
   ]
  },
  {
   "cell_type": "code",
   "execution_count": 2,
   "metadata": {},
   "outputs": [],
   "source": [
    "def downsampling():\n",
    "    sampled_list = []\n",
    "    n = 0\n",
    "    while n <= 3:\n",
    "        print(n)\n",
    "        p = 0.01  # 1% of the lines\n",
    "        # keep the header, then take only 1% of lines\n",
    "        # if random from [0,1] interval is greater than 0.01 the row will be skipped\n",
    "        df = pd.read_csv('/Users/bkuo/Local Documents/Bootcamp 2020/Project/Capstone/CitiBikeCapStone/Data/Trip data/riders_cleaned.csv.gz', skiprows=lambda i: i>0 and random.random() > p,\n",
    "                         parse_dates = ['starttime', 'stoptime'],\\\n",
    "                         dtype = {'start station id': 'Int32', 'end station id': 'Int32'})\n",
    "        df = df.drop(['Unnamed: 0', 'index'], axis = 1)\n",
    "        df['Sample_num'] = n\n",
    "        sampled_list.append(df)\n",
    "        n += 1\n",
    "    return pd.concat(sampled_list)"
   ]
  },
  {
   "cell_type": "code",
   "execution_count": 3,
   "metadata": {},
   "outputs": [
    {
     "name": "stdout",
     "output_type": "stream",
     "text": [
      "0\n"
     ]
    },
    {
     "name": "stderr",
     "output_type": "stream",
     "text": [
      "/Users/bkuo/anaconda3/lib/python3.6/site-packages/IPython/core/interactiveshell.py:3263: DtypeWarning:\n",
      "\n",
      "Columns (15) have mixed types.Specify dtype option on import or set low_memory=False.\n",
      "\n"
     ]
    },
    {
     "name": "stdout",
     "output_type": "stream",
     "text": [
      "1\n",
      "2\n",
      "3\n"
     ]
    }
   ],
   "source": [
    "sample_df = downsampling()"
   ]
  },
  {
   "cell_type": "code",
   "execution_count": 4,
   "metadata": {},
   "outputs": [
    {
     "data": {
      "text/plain": [
       "Index(['tripduration', 'starttime', 'stoptime', 'start station id',\n",
       "       'start station name', 'start station latitude',\n",
       "       'start station longitude', 'end station id', 'end station name',\n",
       "       'end station latitude', 'end station longitude', 'bikeid', 'usertype',\n",
       "       'birth year', 'gender', 'year', 'start_date', 'stop_date', 'start_hour',\n",
       "       'stop_hour', 'start_min', 'stop_min', 'season', 'dayofweek',\n",
       "       'start_interval', 'stop_interval', 'Sample_num'],\n",
       "      dtype='object')"
      ]
     },
     "execution_count": 4,
     "metadata": {},
     "output_type": "execute_result"
    }
   ],
   "source": [
    "sample_df.columns"
   ]
  },
  {
   "cell_type": "code",
   "execution_count": 5,
   "metadata": {},
   "outputs": [],
   "source": [
    "# original code\n",
    "# sample_df = sample_df.drop(['start station id',\n",
    "#        'start station name','end station id', 'end station name','bikeid', 'usertype',\n",
    "#        'birth year', 'gender'], axis = 1)"
   ]
  },
  {
   "cell_type": "code",
   "execution_count": 6,
   "metadata": {},
   "outputs": [
    {
     "data": {
      "text/html": [
       "<div>\n",
       "<style scoped>\n",
       "    .dataframe tbody tr th:only-of-type {\n",
       "        vertical-align: middle;\n",
       "    }\n",
       "\n",
       "    .dataframe tbody tr th {\n",
       "        vertical-align: top;\n",
       "    }\n",
       "\n",
       "    .dataframe thead th {\n",
       "        text-align: right;\n",
       "    }\n",
       "</style>\n",
       "<table border=\"1\" class=\"dataframe\">\n",
       "  <thead>\n",
       "    <tr style=\"text-align: right;\">\n",
       "      <th></th>\n",
       "      <th>tripduration</th>\n",
       "      <th>starttime</th>\n",
       "      <th>stoptime</th>\n",
       "      <th>start station id</th>\n",
       "      <th>start station name</th>\n",
       "      <th>start station latitude</th>\n",
       "      <th>start station longitude</th>\n",
       "      <th>end station id</th>\n",
       "      <th>end station name</th>\n",
       "      <th>end station latitude</th>\n",
       "      <th>...</th>\n",
       "      <th>stop_date</th>\n",
       "      <th>start_hour</th>\n",
       "      <th>stop_hour</th>\n",
       "      <th>start_min</th>\n",
       "      <th>stop_min</th>\n",
       "      <th>season</th>\n",
       "      <th>dayofweek</th>\n",
       "      <th>start_interval</th>\n",
       "      <th>stop_interval</th>\n",
       "      <th>Sample_num</th>\n",
       "    </tr>\n",
       "  </thead>\n",
       "  <tbody>\n",
       "    <tr>\n",
       "      <th>0</th>\n",
       "      <td>572</td>\n",
       "      <td>2017-09-01 00:08:16.000</td>\n",
       "      <td>2017-09-01 00:17:48.000</td>\n",
       "      <td>243</td>\n",
       "      <td>Fulton St &amp; Rockwell Pl</td>\n",
       "      <td>40.688226</td>\n",
       "      <td>-73.979382</td>\n",
       "      <td>343</td>\n",
       "      <td>Clinton Ave &amp; Flushing Ave</td>\n",
       "      <td>40.697940</td>\n",
       "      <td>...</td>\n",
       "      <td>2017-09-01</td>\n",
       "      <td>0</td>\n",
       "      <td>0</td>\n",
       "      <td>0</td>\n",
       "      <td>0</td>\n",
       "      <td>fall</td>\n",
       "      <td>Friday</td>\n",
       "      <td>0:00</td>\n",
       "      <td>0:00</td>\n",
       "      <td>0</td>\n",
       "    </tr>\n",
       "    <tr>\n",
       "      <th>1</th>\n",
       "      <td>829</td>\n",
       "      <td>2017-09-01 00:39:20.000</td>\n",
       "      <td>2017-09-01 00:53:09.000</td>\n",
       "      <td>3152</td>\n",
       "      <td>3 Ave &amp; E 71 St</td>\n",
       "      <td>40.768737</td>\n",
       "      <td>-73.961199</td>\n",
       "      <td>507</td>\n",
       "      <td>E 25 St &amp; 2 Ave</td>\n",
       "      <td>40.739126</td>\n",
       "      <td>...</td>\n",
       "      <td>2017-09-01</td>\n",
       "      <td>0</td>\n",
       "      <td>0</td>\n",
       "      <td>20</td>\n",
       "      <td>20</td>\n",
       "      <td>fall</td>\n",
       "      <td>Friday</td>\n",
       "      <td>0:20</td>\n",
       "      <td>0:20</td>\n",
       "      <td>0</td>\n",
       "    </tr>\n",
       "    <tr>\n",
       "      <th>2</th>\n",
       "      <td>269</td>\n",
       "      <td>2017-09-01 00:41:15.000</td>\n",
       "      <td>2017-09-01 00:45:44.000</td>\n",
       "      <td>3263</td>\n",
       "      <td>Cooper Square &amp; E 7 St</td>\n",
       "      <td>40.729236</td>\n",
       "      <td>-73.990868</td>\n",
       "      <td>161</td>\n",
       "      <td>LaGuardia Pl &amp; W 3 St</td>\n",
       "      <td>40.729170</td>\n",
       "      <td>...</td>\n",
       "      <td>2017-09-01</td>\n",
       "      <td>0</td>\n",
       "      <td>0</td>\n",
       "      <td>40</td>\n",
       "      <td>40</td>\n",
       "      <td>fall</td>\n",
       "      <td>Friday</td>\n",
       "      <td>0:40</td>\n",
       "      <td>0:40</td>\n",
       "      <td>0</td>\n",
       "    </tr>\n",
       "    <tr>\n",
       "      <th>3</th>\n",
       "      <td>2133</td>\n",
       "      <td>2017-09-01 00:58:17.000</td>\n",
       "      <td>2017-09-01 01:33:50.000</td>\n",
       "      <td>513</td>\n",
       "      <td>W 56 St &amp; 10 Ave</td>\n",
       "      <td>40.768254</td>\n",
       "      <td>-73.988639</td>\n",
       "      <td>302</td>\n",
       "      <td>Avenue D &amp; E 3 St</td>\n",
       "      <td>40.720828</td>\n",
       "      <td>...</td>\n",
       "      <td>2017-09-01</td>\n",
       "      <td>0</td>\n",
       "      <td>1</td>\n",
       "      <td>40</td>\n",
       "      <td>40</td>\n",
       "      <td>fall</td>\n",
       "      <td>Friday</td>\n",
       "      <td>0:40</td>\n",
       "      <td>1:40</td>\n",
       "      <td>0</td>\n",
       "    </tr>\n",
       "    <tr>\n",
       "      <th>4</th>\n",
       "      <td>3248</td>\n",
       "      <td>2017-09-01 04:14:04.000</td>\n",
       "      <td>2017-09-01 05:08:13.000</td>\n",
       "      <td>380</td>\n",
       "      <td>W 4 St &amp; 7 Ave S</td>\n",
       "      <td>40.734011</td>\n",
       "      <td>-74.002939</td>\n",
       "      <td>285</td>\n",
       "      <td>Broadway &amp; E 14 St</td>\n",
       "      <td>40.734546</td>\n",
       "      <td>...</td>\n",
       "      <td>2017-09-01</td>\n",
       "      <td>4</td>\n",
       "      <td>5</td>\n",
       "      <td>0</td>\n",
       "      <td>0</td>\n",
       "      <td>fall</td>\n",
       "      <td>Friday</td>\n",
       "      <td>4:00</td>\n",
       "      <td>5:00</td>\n",
       "      <td>0</td>\n",
       "    </tr>\n",
       "    <tr>\n",
       "      <th>...</th>\n",
       "      <td>...</td>\n",
       "      <td>...</td>\n",
       "      <td>...</td>\n",
       "      <td>...</td>\n",
       "      <td>...</td>\n",
       "      <td>...</td>\n",
       "      <td>...</td>\n",
       "      <td>...</td>\n",
       "      <td>...</td>\n",
       "      <td>...</td>\n",
       "      <td>...</td>\n",
       "      <td>...</td>\n",
       "      <td>...</td>\n",
       "      <td>...</td>\n",
       "      <td>...</td>\n",
       "      <td>...</td>\n",
       "      <td>...</td>\n",
       "      <td>...</td>\n",
       "      <td>...</td>\n",
       "      <td>...</td>\n",
       "      <td>...</td>\n",
       "    </tr>\n",
       "    <tr>\n",
       "      <th>1104205</th>\n",
       "      <td>1480</td>\n",
       "      <td>2020-01-31 23:32:51.546</td>\n",
       "      <td>2020-01-31 23:57:32.004</td>\n",
       "      <td>3175</td>\n",
       "      <td>W 70 St &amp; Amsterdam Ave</td>\n",
       "      <td>40.777480</td>\n",
       "      <td>-73.982886</td>\n",
       "      <td>3175</td>\n",
       "      <td>W 70 St &amp; Amsterdam Ave</td>\n",
       "      <td>40.777480</td>\n",
       "      <td>...</td>\n",
       "      <td>2020-01-31</td>\n",
       "      <td>23</td>\n",
       "      <td>23</td>\n",
       "      <td>20</td>\n",
       "      <td>20</td>\n",
       "      <td>winter</td>\n",
       "      <td>Friday</td>\n",
       "      <td>23:20</td>\n",
       "      <td>23:20</td>\n",
       "      <td>3</td>\n",
       "    </tr>\n",
       "    <tr>\n",
       "      <th>1104206</th>\n",
       "      <td>1079</td>\n",
       "      <td>2020-01-31 23:40:31.668</td>\n",
       "      <td>2020-01-31 23:58:31.109</td>\n",
       "      <td>312</td>\n",
       "      <td>Allen St &amp; Stanton St</td>\n",
       "      <td>40.722055</td>\n",
       "      <td>-73.989111</td>\n",
       "      <td>3246</td>\n",
       "      <td>Montague St &amp; Clinton St</td>\n",
       "      <td>40.694281</td>\n",
       "      <td>...</td>\n",
       "      <td>2020-01-31</td>\n",
       "      <td>23</td>\n",
       "      <td>23</td>\n",
       "      <td>40</td>\n",
       "      <td>40</td>\n",
       "      <td>winter</td>\n",
       "      <td>Friday</td>\n",
       "      <td>23:40</td>\n",
       "      <td>23:40</td>\n",
       "      <td>3</td>\n",
       "    </tr>\n",
       "    <tr>\n",
       "      <th>1104207</th>\n",
       "      <td>77</td>\n",
       "      <td>2020-01-31 23:43:29.677</td>\n",
       "      <td>2020-01-31 23:44:47.541</td>\n",
       "      <td>3699</td>\n",
       "      <td>W 50 St &amp; 9 Ave</td>\n",
       "      <td>40.763605</td>\n",
       "      <td>-73.989180</td>\n",
       "      <td>450</td>\n",
       "      <td>W 49 St &amp; 8 Ave</td>\n",
       "      <td>40.762272</td>\n",
       "      <td>...</td>\n",
       "      <td>2020-01-31</td>\n",
       "      <td>23</td>\n",
       "      <td>23</td>\n",
       "      <td>40</td>\n",
       "      <td>40</td>\n",
       "      <td>winter</td>\n",
       "      <td>Friday</td>\n",
       "      <td>23:40</td>\n",
       "      <td>23:40</td>\n",
       "      <td>3</td>\n",
       "    </tr>\n",
       "    <tr>\n",
       "      <th>1104208</th>\n",
       "      <td>94</td>\n",
       "      <td>2020-01-31 23:48:34.675</td>\n",
       "      <td>2020-01-31 23:50:08.909</td>\n",
       "      <td>304</td>\n",
       "      <td>Broadway &amp; Battery Pl</td>\n",
       "      <td>40.704633</td>\n",
       "      <td>-74.013617</td>\n",
       "      <td>2008</td>\n",
       "      <td>Little West St &amp; 1 Pl</td>\n",
       "      <td>40.705693</td>\n",
       "      <td>...</td>\n",
       "      <td>2020-01-31</td>\n",
       "      <td>23</td>\n",
       "      <td>23</td>\n",
       "      <td>40</td>\n",
       "      <td>40</td>\n",
       "      <td>winter</td>\n",
       "      <td>Friday</td>\n",
       "      <td>23:40</td>\n",
       "      <td>23:40</td>\n",
       "      <td>3</td>\n",
       "    </tr>\n",
       "    <tr>\n",
       "      <th>1104209</th>\n",
       "      <td>694</td>\n",
       "      <td>2020-01-31 23:51:18.942</td>\n",
       "      <td>2020-02-01 00:02:53.744</td>\n",
       "      <td>3757</td>\n",
       "      <td>Stagg St &amp; Morgan Ave</td>\n",
       "      <td>40.710681</td>\n",
       "      <td>-73.933720</td>\n",
       "      <td>3092</td>\n",
       "      <td>Berry St &amp; N 8 St</td>\n",
       "      <td>40.719009</td>\n",
       "      <td>...</td>\n",
       "      <td>2020-02-01</td>\n",
       "      <td>23</td>\n",
       "      <td>0</td>\n",
       "      <td>40</td>\n",
       "      <td>40</td>\n",
       "      <td>winter</td>\n",
       "      <td>Friday</td>\n",
       "      <td>23:40</td>\n",
       "      <td>0:40</td>\n",
       "      <td>3</td>\n",
       "    </tr>\n",
       "  </tbody>\n",
       "</table>\n",
       "<p>4417208 rows × 27 columns</p>\n",
       "</div>"
      ],
      "text/plain": [
       "         tripduration               starttime                stoptime  \\\n",
       "0                 572 2017-09-01 00:08:16.000 2017-09-01 00:17:48.000   \n",
       "1                 829 2017-09-01 00:39:20.000 2017-09-01 00:53:09.000   \n",
       "2                 269 2017-09-01 00:41:15.000 2017-09-01 00:45:44.000   \n",
       "3                2133 2017-09-01 00:58:17.000 2017-09-01 01:33:50.000   \n",
       "4                3248 2017-09-01 04:14:04.000 2017-09-01 05:08:13.000   \n",
       "...               ...                     ...                     ...   \n",
       "1104205          1480 2020-01-31 23:32:51.546 2020-01-31 23:57:32.004   \n",
       "1104206          1079 2020-01-31 23:40:31.668 2020-01-31 23:58:31.109   \n",
       "1104207            77 2020-01-31 23:43:29.677 2020-01-31 23:44:47.541   \n",
       "1104208            94 2020-01-31 23:48:34.675 2020-01-31 23:50:08.909   \n",
       "1104209           694 2020-01-31 23:51:18.942 2020-02-01 00:02:53.744   \n",
       "\n",
       "         start station id       start station name  start station latitude  \\\n",
       "0                     243  Fulton St & Rockwell Pl               40.688226   \n",
       "1                    3152          3 Ave & E 71 St               40.768737   \n",
       "2                    3263   Cooper Square & E 7 St               40.729236   \n",
       "3                     513         W 56 St & 10 Ave               40.768254   \n",
       "4                     380         W 4 St & 7 Ave S               40.734011   \n",
       "...                   ...                      ...                     ...   \n",
       "1104205              3175  W 70 St & Amsterdam Ave               40.777480   \n",
       "1104206               312    Allen St & Stanton St               40.722055   \n",
       "1104207              3699          W 50 St & 9 Ave               40.763605   \n",
       "1104208               304    Broadway & Battery Pl               40.704633   \n",
       "1104209              3757    Stagg St & Morgan Ave               40.710681   \n",
       "\n",
       "         start station longitude  end station id            end station name  \\\n",
       "0                     -73.979382             343  Clinton Ave & Flushing Ave   \n",
       "1                     -73.961199             507             E 25 St & 2 Ave   \n",
       "2                     -73.990868             161       LaGuardia Pl & W 3 St   \n",
       "3                     -73.988639             302           Avenue D & E 3 St   \n",
       "4                     -74.002939             285          Broadway & E 14 St   \n",
       "...                          ...             ...                         ...   \n",
       "1104205               -73.982886            3175     W 70 St & Amsterdam Ave   \n",
       "1104206               -73.989111            3246    Montague St & Clinton St   \n",
       "1104207               -73.989180             450             W 49 St & 8 Ave   \n",
       "1104208               -74.013617            2008       Little West St & 1 Pl   \n",
       "1104209               -73.933720            3092           Berry St & N 8 St   \n",
       "\n",
       "         end station latitude  ...   stop_date  start_hour stop_hour  \\\n",
       "0                   40.697940  ...  2017-09-01           0         0   \n",
       "1                   40.739126  ...  2017-09-01           0         0   \n",
       "2                   40.729170  ...  2017-09-01           0         0   \n",
       "3                   40.720828  ...  2017-09-01           0         1   \n",
       "4                   40.734546  ...  2017-09-01           4         5   \n",
       "...                       ...  ...         ...         ...       ...   \n",
       "1104205             40.777480  ...  2020-01-31          23        23   \n",
       "1104206             40.694281  ...  2020-01-31          23        23   \n",
       "1104207             40.762272  ...  2020-01-31          23        23   \n",
       "1104208             40.705693  ...  2020-01-31          23        23   \n",
       "1104209             40.719009  ...  2020-02-01          23         0   \n",
       "\n",
       "        start_min  stop_min  season dayofweek start_interval  stop_interval  \\\n",
       "0               0         0    fall    Friday           0:00           0:00   \n",
       "1              20        20    fall    Friday           0:20           0:20   \n",
       "2              40        40    fall    Friday           0:40           0:40   \n",
       "3              40        40    fall    Friday           0:40           1:40   \n",
       "4               0         0    fall    Friday           4:00           5:00   \n",
       "...           ...       ...     ...       ...            ...            ...   \n",
       "1104205        20        20  winter    Friday          23:20          23:20   \n",
       "1104206        40        40  winter    Friday          23:40          23:40   \n",
       "1104207        40        40  winter    Friday          23:40          23:40   \n",
       "1104208        40        40  winter    Friday          23:40          23:40   \n",
       "1104209        40        40  winter    Friday          23:40           0:40   \n",
       "\n",
       "         Sample_num  \n",
       "0                 0  \n",
       "1                 0  \n",
       "2                 0  \n",
       "3                 0  \n",
       "4                 0  \n",
       "...             ...  \n",
       "1104205           3  \n",
       "1104206           3  \n",
       "1104207           3  \n",
       "1104208           3  \n",
       "1104209           3  \n",
       "\n",
       "[4417208 rows x 27 columns]"
      ]
     },
     "execution_count": 6,
     "metadata": {},
     "output_type": "execute_result"
    }
   ],
   "source": [
    "sample_df"
   ]
  },
  {
   "cell_type": "code",
   "execution_count": 9,
   "metadata": {},
   "outputs": [],
   "source": [
    "sample_df.to_csv('downsampled_rider.csv.gz', compression='gzip')"
   ]
  },
  {
   "cell_type": "code",
   "execution_count": 2,
   "metadata": {},
   "outputs": [
    {
     "name": "stderr",
     "output_type": "stream",
     "text": [
      "/Users/bkuo/anaconda3/lib/python3.6/site-packages/IPython/core/interactiveshell.py:3072: DtypeWarning:\n",
      "\n",
      "Columns (15) have mixed types.Specify dtype option on import or set low_memory=False.\n",
      "\n"
     ]
    }
   ],
   "source": [
    "sample_df = pd. read_csv('downsampled_rider.csv.gz', compression='gzip')"
   ]
  },
  {
   "cell_type": "code",
   "execution_count": 3,
   "metadata": {},
   "outputs": [
    {
     "data": {
      "text/plain": [
       "<seaborn.axisgrid.FacetGrid at 0x7fd5052b94e0>"
      ]
     },
     "execution_count": 3,
     "metadata": {},
     "output_type": "execute_result"
    },
    {
     "data": {
      "image/png": "[encoded data removed]",
      "text/plain": [
       "<Figure size 864x216 with 4 Axes>"
      ]
     },
     "metadata": {
      "needs_background": "light"
     },
     "output_type": "display_data"
    }
   ],
   "source": [
    "g = sns.FacetGrid(sample_df, col=\"Sample_num\")\n",
    "g.map_dataframe(sns.histplot, x='start_hour')"
   ]
  },
  {
   "cell_type": "code",
   "execution_count": 4,
   "metadata": {},
   "outputs": [
    {
     "data": {
      "text/plain": [
       "<seaborn.axisgrid.FacetGrid at 0x7fd453626400>"
      ]
     },
     "execution_count": 4,
     "metadata": {},
     "output_type": "execute_result"
    },
    {
     "data": {
      "image/png": "[encoded data removed]",
      "text/plain": [
       "<Figure size 864x216 with 4 Axes>"
      ]
     },
     "metadata": {
      "needs_background": "light"
     },
     "output_type": "display_data"
    }
   ],
   "source": [
    "g = sns.FacetGrid(sample_df, col=\"Sample_num\")\n",
    "g.map_dataframe(sns.histplot, x='stop_hour') "
   ]
  },
  {
   "cell_type": "code",
   "execution_count": 5,
   "metadata": {},
   "outputs": [
    {
     "data": {
      "text/plain": [
       "<seaborn.axisgrid.FacetGrid at 0x7fd4447a7208>"
      ]
     },
     "execution_count": 5,
     "metadata": {},
     "output_type": "execute_result"
    },
    {
     "data": {
      "image/png": "[encoded data removed]",
      "text/plain": [
       "<Figure size 864x216 with 4 Axes>"
      ]
     },
     "metadata": {
      "needs_background": "light"
     },
     "output_type": "display_data"
    }
   ],
   "source": [
    "g = sns.FacetGrid(sample_df, col=\"Sample_num\")\n",
    "g.map_dataframe(sns.histplot, x='start_min')"
   ]
  },
  {
   "cell_type": "code",
   "execution_count": 6,
   "metadata": {},
   "outputs": [
    {
     "data": {
      "text/plain": [
       "<seaborn.axisgrid.FacetGrid at 0x7fd445a8b7f0>"
      ]
     },
     "execution_count": 6,
     "metadata": {},
     "output_type": "execute_result"
    },
    {
     "data": {
      "image/png": "[encoded data removed]",
      "text/plain": [
       "<Figure size 864x216 with 4 Axes>"
      ]
     },
     "metadata": {
      "needs_background": "light"
     },
     "output_type": "display_data"
    }
   ],
   "source": [
    "g = sns.FacetGrid(sample_df, col=\"Sample_num\")\n",
    "g.map_dataframe(sns.histplot, x='stop_min')"
   ]
  },
  {
   "cell_type": "code",
   "execution_count": null,
   "metadata": {},
   "outputs": [],
   "source": []
  }
 ],
 "metadata": {
  "kernelspec": {
   "display_name": "Python 3",
   "language": "python",
   "name": "python3"
  },
  "language_info": {
   "codemirror_mode": {
    "name": "ipython",
    "version": 3
   },
   "file_extension": ".py",
   "mimetype": "text/x-python",
   "name": "python",
   "nbconvert_exporter": "python",
   "pygments_lexer": "ipython3",
   "version": "3.7.6"
  },
  "toc": {
   "base_numbering": 1,
   "nav_menu": {},
   "number_sections": false,
   "sideBar": true,
   "skip_h1_title": false,
   "title_cell": "Table of Contents",
   "title_sidebar": "Contents",
   "toc_cell": false,
   "toc_position": {},
   "toc_section_display": true,
   "toc_window_display": false
  }
 },
 "nbformat": 4,
 "nbformat_minor": 4
}
